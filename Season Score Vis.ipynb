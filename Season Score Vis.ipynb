{
 "cells": [
  {
   "cell_type": "code",
   "execution_count": 36,
   "metadata": {
    "collapsed": false
   },
   "outputs": [],
   "source": [
    "import pandas as pd\n",
    "import numpy as np\n",
    "import matplotlib.pyplot as plt\n",
    "import matplotlib.colors as color\n",
    "#import bokeh.charts as bk\n",
    "#from bokeh.layouts import row\n",
    "#import plotly.plotly as pyp"
   ]
  },
  {
   "cell_type": "code",
   "execution_count": 1,
   "metadata": {
    "collapsed": false
   },
   "outputs": [
    {
     "data": {
      "text/plain": [
       "'df = pd.read_csv(\"161025SA.csv\")\\ndel df[\"MIN\"]\\ndel df[\"FG\"]\\ndel df[\"3PT\"]\\ndel df[\"FT\"]\\ndel df[\"OREB\"]\\ndel df[\"DREB\"]\\ndel df[\"REB\"]\\ndel df[\"AST\"]\\ndel df[\"STL\"]\\ndel df[\"BLK\"]\\ndel df[\"TO\"]\\ndel df[\"PF\"]\\ndel df[\"+/-\"]\\n\\ndf = df.set_index(\"PLAYERS\")\\ndf.columns = [\"10/25/16 SA\"]\\n\\n\\ndf = pd.read_csv(\"161028NO.csv\")\\ndel df[\"MIN\"]\\ndel df[\"FG\"]\\ndel df[\"3PT\"]\\ndel df[\"FT\"]\\ndel df[\"OREB\"]\\ndel df[\"DREB\"]\\ndel df[\"REB\"]\\ndel df[\"AST\"]\\ndel df[\"STL\"]\\ndel df[\"BLK\"]\\ndel df[\"TO\"]\\ndel df[\"PF\"]\\ndel df[\"+/-\"]\\ndf.columns = [\"10/25/16 SA\"]\\ndata'"
      ]
     },
     "execution_count": 1,
     "metadata": {},
     "output_type": "execute_result"
    }
   ],
   "source": [
    "# replaced with next code block to expediate data import\n",
    "\"\"\"df = pd.read_csv(\"161025SA.csv\")\n",
    "del df[\"MIN\"]\n",
    "del df[\"FG\"]\n",
    "del df[\"3PT\"]\n",
    "del df[\"FT\"]\n",
    "del df[\"OREB\"]\n",
    "del df[\"DREB\"]\n",
    "del df[\"REB\"]\n",
    "del df[\"AST\"]\n",
    "del df[\"STL\"]\n",
    "del df[\"BLK\"]\n",
    "del df[\"TO\"]\n",
    "del df[\"PF\"]\n",
    "del df[\"+/-\"]\n",
    "\n",
    "df = df.set_index(\"PLAYERS\")\n",
    "df.columns = [\"10/25/16 SA\"]\n",
    "\n",
    "\n",
    "df = pd.read_csv(\"161028NO.csv\")\n",
    "del df[\"MIN\"]\n",
    "del df[\"FG\"]\n",
    "del df[\"3PT\"]\n",
    "del df[\"FT\"]\n",
    "del df[\"OREB\"]\n",
    "del df[\"DREB\"]\n",
    "del df[\"REB\"]\n",
    "del df[\"AST\"]\n",
    "del df[\"STL\"]\n",
    "del df[\"BLK\"]\n",
    "del df[\"TO\"]\n",
    "del df[\"PF\"]\n",
    "del df[\"+/-\"]\n",
    "df.columns = [\"10/25/16 SA\"]\n",
    "data\"\"\""
   ]
  },
  {
   "cell_type": "code",
   "execution_count": 38,
   "metadata": {
    "collapsed": false
   },
   "outputs": [
    {
     "name": "stdout",
     "output_type": "stream",
     "text": [
      "[129 114 100 104  96 117 106  95 101 120 121  88 121  83 106  85 102]\n"
     ]
    }
   ],
   "source": [
    "#blank for later initialization\n",
    "data = pd.DataFrame()\n",
    "#ops = list()\n",
    "\n",
    "#retrieval file names and string names\n",
    "source = pd.read_csv(\"datadict.csv\")\n",
    "#ignore first element of tuple (df indexes)\n",
    "for (a,st,file, opt) in source.itertuples():\n",
    "    df = pd.read_csv(file)\n",
    "    #we only care about points\n",
    "    del df[\"MIN\"]\n",
    "    del df[\"FG\"]\n",
    "    del df[\"3PT\"]\n",
    "    del df[\"FT\"]\n",
    "    del df[\"OREB\"]\n",
    "    del df[\"DREB\"]\n",
    "    del df[\"REB\"]\n",
    "    del df[\"AST\"]\n",
    "    del df[\"STL\"]\n",
    "    del df[\"BLK\"]\n",
    "    del df[\"TO\"]\n",
    "    del df[\"PF\"]\n",
    "    del df[\"+/-\"]\n",
    "    \n",
    "    #set the index labels\n",
    "    df = df.set_index(\"PLAYERS\")\n",
    "    #name column to be corresponding game\n",
    "    df.columns = [st]\n",
    "    \n",
    "    #set if first game, else concatenate dfs\n",
    "    if len(data) == 0:\n",
    "        data = df\n",
    "        ops = [opt]\n",
    "    else:\n",
    "        data = pd.concat([data,df], axis =1)\n",
    "        ops = np.append(ops, opt)\n",
    "#get rid of NaN (DNP-CDs)\n",
    "data.fillna(0)\n",
    "print(ops)"
   ]
  },
  {
   "cell_type": "code",
   "execution_count": 3,
   "metadata": {
    "collapsed": false
   },
   "outputs": [
    {
     "data": {
      "text/plain": [
       "'\\nfig = bk.Line(data)\\nbk.show(row(fig))'"
      ]
     },
     "execution_count": 3,
     "metadata": {},
     "output_type": "execute_result"
    }
   ],
   "source": [
    "#out of range float error???\n",
    "\n",
    "#fig = bk.Area(data, title=\"Stacked Area Chart\", legend=\"top_left\",\n",
    "#             stack=True, xlabel='Game', ylabel='Points')\n",
    "\"\"\"\n",
    "fig = bk.Line(data)\n",
    "bk.show(row(fig))\"\"\""
   ]
  },
  {
   "cell_type": "code",
   "execution_count": 56,
   "metadata": {
    "collapsed": false
   },
   "outputs": [],
   "source": [
    "data.transpose().plot(kind = \"Area\", colormap = \"RdYlBu\")\n",
    "plt.plot(ops, linewidth=5, color='black')\n",
    "plt.xticks(range(0,17),data.columns)\n",
    "#plt.ion()\n",
    "plt.show()"
   ]
  },
  {
   "cell_type": "code",
   "execution_count": null,
   "metadata": {
    "collapsed": true
   },
   "outputs": [],
   "source": []
  }
 ],
 "metadata": {
  "kernelspec": {
   "display_name": "Python [Root]",
   "language": "python",
   "name": "Python [Root]"
  },
  "language_info": {
   "codemirror_mode": {
    "name": "ipython",
    "version": 3
   },
   "file_extension": ".py",
   "mimetype": "text/x-python",
   "name": "python",
   "nbconvert_exporter": "python",
   "pygments_lexer": "ipython3",
   "version": "3.5.2"
  }
 },
 "nbformat": 4,
 "nbformat_minor": 0
}
